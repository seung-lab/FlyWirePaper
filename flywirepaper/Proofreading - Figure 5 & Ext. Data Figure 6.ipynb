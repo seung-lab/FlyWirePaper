{
 "cells": [
  {
   "cell_type": "markdown",
   "metadata": {},
   "source": [
    "## Proofreading - Figure 5 and Ext. Data Figure 6\n",
    "\n",
    "This notebook creates the plots presented in Figure 4 of the FlyWire paper. "
   ]
  },
  {
   "cell_type": "code",
   "execution_count": 1,
   "metadata": {},
   "outputs": [],
   "source": [
    "import os\n",
    "import dill\n",
    "import warnings\n",
    "import pandas as pd\n",
    "import collections\n",
    "import numpy as np\n",
    "\n",
    "warnings.filterwarnings(\"ignore\")\n",
    "\n",
    "HOME = os.path.expanduser(\"~\")"
   ]
  },
  {
   "cell_type": "code",
   "execution_count": 2,
   "metadata": {},
   "outputs": [],
   "source": [
    "from flywirepaper import plotting"
   ]
  },
  {
   "cell_type": "markdown",
   "metadata": {},
   "source": [
    "## Define relevant paths and create directories"
   ]
  },
  {
   "cell_type": "code",
   "execution_count": 3,
   "metadata": {},
   "outputs": [],
   "source": [
    "data_dir = f\"{os.path.realpath('')}/../data\"\n",
    "figure_dir = f\"{os.path.realpath('')}/../figures/figure_5/\"\n",
    "figure_source_dir = f\"{os.path.realpath('')}/../figures/figure_source_5/\"\n",
    "\n",
    "if not os.path.exists(figure_dir):\n",
    "    os.makedirs(figure_dir)\n",
    "    \n",
    "if not os.path.exists(figure_source_dir):\n",
    "    os.makedirs(figure_source_dir)"
   ]
  },
  {
   "cell_type": "markdown",
   "metadata": {},
   "source": [
    "## Data loading"
   ]
  },
  {
   "cell_type": "markdown",
   "metadata": {},
   "source": [
    "This cell loads the data of the three-round proofreading. Each cell was proofread successively by three different proofreaders.\n",
    "\n",
    "`proofreading_round_root_id_dict`: Contains the root_ids before and after each proofreading round. The key is a unique identifier for the cell, the values is a list of four root_ids. \n",
    "\n",
    "`proofreading_round_vx_change_dict`: Contains voxel changes of each edit applied to the cell in each round. The key is a unique identifier for the cell, the next key is the proofreading round. We removed edits that were later undone by a proofreader and those that were made to a branch that was later cut-off from the neuron (see Methods). Values are the change in voxels that an edit caused. \n",
    "\n",
    "`proofreading_round_nsyn_change_dict`: Similar to above. Values are the change in number of synapses that an edit caused. Prior to calculating changes, synapses were filtered with a threshold of 50 (`>=`) on the cleft score (see Methods)."
   ]
  },
  {
   "cell_type": "code",
   "execution_count": 4,
   "metadata": {},
   "outputs": [],
   "source": [
    "with open(f\"{data_dir}/proofreading_round_root_id_dict.dl\", \"rb\") as f:\n",
    "    proofreading_round_root_id_dict = dill.load(f)\n",
    "with open(f\"{data_dir}/proofreading_round_vx_change_dict.dl\", \"rb\") as f:\n",
    "    proofreading_round_vx_change_dict = dill.load(f)\n",
    "with open(f\"{data_dir}/proofreading_round_nsyn_change_dict.dl\", \"rb\") as f:\n",
    "    proofreading_round_nsyn_change_dict = dill.load(f)"
   ]
  },
  {
   "cell_type": "markdown",
   "metadata": {},
   "source": [
    "`nvx_performance_dict`: Contains true and false positive and negative voxels for each neuron before every proofreading round when compared to the final root_id.\n",
    "\n",
    "`nsyn_performance_dict`: Contains true and false positive and negative synapses (both in- and outgoing) for each neuron before every proofreading round when compared to the final root_id.\n",
    "\n",
    "`nvx_fast_performance_dict` and `nsyn_fast_performance_dict` contain analogous data for the additional evaluation of the fast proofreading regiment."
   ]
  },
  {
   "cell_type": "code",
   "execution_count": 5,
   "metadata": {},
   "outputs": [],
   "source": [
    "with open(f\"{data_dir}/nvx_performance_dict.dl\", \"rb\") as f:\n",
    "    nvx_performance_dict = dill.load(f)\n",
    "    \n",
    "with open(f\"{data_dir}/nsyn_performance_dict.dl\", \"rb\") as f:\n",
    "    nsyn_performance_dict = dill.load(f)\n",
    "    \n",
    "with open(f\"{data_dir}/nvx_fast_performance_dict.dl\", \"rb\") as f:\n",
    "    nvx_fast_performance_dict = dill.load(f)\n",
    "    \n",
    "with open(f\"{data_dir}/nsyn_fast_performance_dict.dl\", \"rb\") as f:\n",
    "    nsyn_fast_performance_dict = dill.load(f)"
   ]
  },
  {
   "cell_type": "markdown",
   "metadata": {},
   "source": [
    "## Global definitions"
   ]
  },
  {
   "cell_type": "code",
   "execution_count": 6,
   "metadata": {},
   "outputs": [],
   "source": [
    "round_colors = [\".4\", [.6, .3, .3], [.1, .4, .8], [.5, .5, .1], [.7, .3, .7]]\n",
    "round_labels = {0: \"Auto\", 1: \"1\", 2: \"2\", 3: \"3\"}\n",
    "round_labels_ext = {0: \"Auto\", 1: \"1rnd\", 2: \"2rnds\", 100: \"Fast\"}\n",
    "vx_um_size = 16 * 16 * 40 / 1e9"
   ]
  },
  {
   "cell_type": "markdown",
   "metadata": {},
   "source": [
    "## Calculating number of edits per proofreading round"
   ]
  },
  {
   "cell_type": "markdown",
   "metadata": {},
   "source": [
    "Combining edits across neurons and collecting statistics per proofreading round. Here, we are calculating the number of edits per proofreading round, filter for major edits ($ >1\\mu m^3$), and summarize proofreading times."
   ]
  },
  {
   "cell_type": "code",
   "execution_count": 7,
   "metadata": {},
   "outputs": [],
   "source": [
    "major_threshold = 1."
   ]
  },
  {
   "cell_type": "code",
   "execution_count": 8,
   "metadata": {},
   "outputs": [],
   "source": [
    "consolidated_vx_changes = collections.defaultdict(list)\n",
    "consolidated_nsyn_changes = collections.defaultdict(list)\n",
    "\n",
    "for i_round in range(1, 4):\n",
    "    for u_id in proofreading_round_vx_change_dict.keys():\n",
    "        if i_round in proofreading_round_vx_change_dict[u_id]:\n",
    "            consolidated_vx_changes[i_round].extend(proofreading_round_vx_change_dict[u_id][i_round])\n",
    "        if i_round in proofreading_round_nsyn_change_dict[u_id]:\n",
    "            consolidated_nsyn_changes[i_round].extend(proofreading_round_nsyn_change_dict[u_id][i_round])"
   ]
  },
  {
   "cell_type": "code",
   "execution_count": 9,
   "metadata": {},
   "outputs": [],
   "source": [
    "n_major_edits_dict = collections.defaultdict(dict)\n",
    "n_edits_dict = collections.defaultdict(dict)\n",
    "edits_uid_dict = collections.defaultdict(dict)\n",
    "proofreading_time_edits_dict = collections.defaultdict(dict)\n",
    "\n",
    "\n",
    "for u_id in proofreading_round_vx_change_dict:\n",
    "    for k in range(1, 4):            \n",
    "        n_major_edits_dict[k][u_id] = np.sum((np.abs(proofreading_round_vx_change_dict[u_id][k]) * vx_um_size) > major_threshold)\n",
    "        n_edits_dict[k][u_id] = len(proofreading_round_vx_change_dict[u_id][k])"
   ]
  },
  {
   "cell_type": "code",
   "execution_count": 10,
   "metadata": {},
   "outputs": [],
   "source": [
    "n_major_edits_df = pd.DataFrame(n_major_edits_dict)\n",
    "n_edits_df = pd.DataFrame(n_major_edits_dict)"
   ]
  },
  {
   "cell_type": "markdown",
   "metadata": {},
   "source": [
    "## Plotting number of edits per proofreading round"
   ]
  },
  {
   "cell_type": "markdown",
   "metadata": {},
   "source": [
    "Creating a summary dataframe"
   ]
  },
  {
   "cell_type": "code",
   "execution_count": 11,
   "metadata": {},
   "outputs": [
    {
     "data": {
      "text/html": [
       "<div>\n",
       "<style scoped>\n",
       "    .dataframe tbody tr th:only-of-type {\n",
       "        vertical-align: middle;\n",
       "    }\n",
       "\n",
       "    .dataframe tbody tr th {\n",
       "        vertical-align: top;\n",
       "    }\n",
       "\n",
       "    .dataframe thead th {\n",
       "        text-align: right;\n",
       "    }\n",
       "</style>\n",
       "<table border=\"1\" class=\"dataframe\">\n",
       "  <thead>\n",
       "    <tr style=\"text-align: right;\">\n",
       "      <th></th>\n",
       "      <th>1</th>\n",
       "      <th>2</th>\n",
       "      <th>3</th>\n",
       "    </tr>\n",
       "  </thead>\n",
       "  <tbody>\n",
       "    <tr>\n",
       "      <th>count</th>\n",
       "      <td>183.000000</td>\n",
       "      <td>183.000000</td>\n",
       "      <td>183.000000</td>\n",
       "    </tr>\n",
       "    <tr>\n",
       "      <th>mean</th>\n",
       "      <td>10.945355</td>\n",
       "      <td>2.540984</td>\n",
       "      <td>2.551913</td>\n",
       "    </tr>\n",
       "    <tr>\n",
       "      <th>std</th>\n",
       "      <td>13.249809</td>\n",
       "      <td>4.394954</td>\n",
       "      <td>5.352034</td>\n",
       "    </tr>\n",
       "    <tr>\n",
       "      <th>min</th>\n",
       "      <td>0.000000</td>\n",
       "      <td>0.000000</td>\n",
       "      <td>0.000000</td>\n",
       "    </tr>\n",
       "    <tr>\n",
       "      <th>25%</th>\n",
       "      <td>3.000000</td>\n",
       "      <td>0.000000</td>\n",
       "      <td>0.000000</td>\n",
       "    </tr>\n",
       "    <tr>\n",
       "      <th>50%</th>\n",
       "      <td>7.000000</td>\n",
       "      <td>1.000000</td>\n",
       "      <td>0.000000</td>\n",
       "    </tr>\n",
       "    <tr>\n",
       "      <th>75%</th>\n",
       "      <td>13.000000</td>\n",
       "      <td>3.000000</td>\n",
       "      <td>3.000000</td>\n",
       "    </tr>\n",
       "    <tr>\n",
       "      <th>max</th>\n",
       "      <td>94.000000</td>\n",
       "      <td>31.000000</td>\n",
       "      <td>36.000000</td>\n",
       "    </tr>\n",
       "  </tbody>\n",
       "</table>\n",
       "</div>"
      ],
      "text/plain": [
       "                1           2           3\n",
       "count  183.000000  183.000000  183.000000\n",
       "mean    10.945355    2.540984    2.551913\n",
       "std     13.249809    4.394954    5.352034\n",
       "min      0.000000    0.000000    0.000000\n",
       "25%      3.000000    0.000000    0.000000\n",
       "50%      7.000000    1.000000    0.000000\n",
       "75%     13.000000    3.000000    3.000000\n",
       "max     94.000000   31.000000   36.000000"
      ]
     },
     "execution_count": 11,
     "metadata": {},
     "output_type": "execute_result"
    }
   ],
   "source": [
    "n_edits_df.describe()"
   ]
  },
  {
   "cell_type": "code",
   "execution_count": 12,
   "metadata": {},
   "outputs": [
    {
     "data": {
      "text/html": [
       "<div>\n",
       "<style scoped>\n",
       "    .dataframe tbody tr th:only-of-type {\n",
       "        vertical-align: middle;\n",
       "    }\n",
       "\n",
       "    .dataframe tbody tr th {\n",
       "        vertical-align: top;\n",
       "    }\n",
       "\n",
       "    .dataframe thead th {\n",
       "        text-align: right;\n",
       "    }\n",
       "</style>\n",
       "<table border=\"1\" class=\"dataframe\">\n",
       "  <thead>\n",
       "    <tr style=\"text-align: right;\">\n",
       "      <th></th>\n",
       "      <th>1</th>\n",
       "      <th>2</th>\n",
       "      <th>3</th>\n",
       "    </tr>\n",
       "  </thead>\n",
       "  <tbody>\n",
       "    <tr>\n",
       "      <th>count</th>\n",
       "      <td>183.000000</td>\n",
       "      <td>183.000000</td>\n",
       "      <td>183.000000</td>\n",
       "    </tr>\n",
       "    <tr>\n",
       "      <th>mean</th>\n",
       "      <td>10.945355</td>\n",
       "      <td>2.540984</td>\n",
       "      <td>2.551913</td>\n",
       "    </tr>\n",
       "    <tr>\n",
       "      <th>std</th>\n",
       "      <td>13.249809</td>\n",
       "      <td>4.394954</td>\n",
       "      <td>5.352034</td>\n",
       "    </tr>\n",
       "    <tr>\n",
       "      <th>min</th>\n",
       "      <td>0.000000</td>\n",
       "      <td>0.000000</td>\n",
       "      <td>0.000000</td>\n",
       "    </tr>\n",
       "    <tr>\n",
       "      <th>25%</th>\n",
       "      <td>3.000000</td>\n",
       "      <td>0.000000</td>\n",
       "      <td>0.000000</td>\n",
       "    </tr>\n",
       "    <tr>\n",
       "      <th>50%</th>\n",
       "      <td>7.000000</td>\n",
       "      <td>1.000000</td>\n",
       "      <td>0.000000</td>\n",
       "    </tr>\n",
       "    <tr>\n",
       "      <th>75%</th>\n",
       "      <td>13.000000</td>\n",
       "      <td>3.000000</td>\n",
       "      <td>3.000000</td>\n",
       "    </tr>\n",
       "    <tr>\n",
       "      <th>max</th>\n",
       "      <td>94.000000</td>\n",
       "      <td>31.000000</td>\n",
       "      <td>36.000000</td>\n",
       "    </tr>\n",
       "  </tbody>\n",
       "</table>\n",
       "</div>"
      ],
      "text/plain": [
       "                1           2           3\n",
       "count  183.000000  183.000000  183.000000\n",
       "mean    10.945355    2.540984    2.551913\n",
       "std     13.249809    4.394954    5.352034\n",
       "min      0.000000    0.000000    0.000000\n",
       "25%      3.000000    0.000000    0.000000\n",
       "50%      7.000000    1.000000    0.000000\n",
       "75%     13.000000    3.000000    3.000000\n",
       "max     94.000000   31.000000   36.000000"
      ]
     },
     "execution_count": 12,
     "metadata": {},
     "output_type": "execute_result"
    }
   ],
   "source": [
    "n_major_edits_df.describe()"
   ]
  },
  {
   "cell_type": "code",
   "execution_count": 13,
   "metadata": {},
   "outputs": [
    {
     "name": "stderr",
     "output_type": "stream",
     "text": [
      "findfont: Font family ['sans-serif'] not found. Falling back to DejaVu Sans.\n",
      "findfont: Font family ['sans-serif'] not found. Falling back to DejaVu Sans.\n"
     ]
    },
    {
     "data": {
      "image/png": "[encoded data removed]",
      "text/plain": [
       "<Figure size 360x360 with 1 Axes>"
      ]
     },
     "metadata": {},
     "output_type": "display_data"
    },
    {
     "data": {
      "image/png": "[encoded data removed]",
      "text/plain": [
       "<Figure size 360x360 with 1 Axes>"
      ]
     },
     "metadata": {},
     "output_type": "display_data"
    }
   ],
   "source": [
    "plotting.box_plot(n_major_edits_df.to_dict(orient=\"list\"),\n",
    "                  color_list=round_colors[1:], \n",
    "                  figsize=((5, 5)),\n",
    "                  xlabel=\"Proofreading round\",\n",
    "                  ylabel=\"# Large edits / neuron\",\n",
    "                  path=f\"{figure_dir}/edit_major_box.png\")\n",
    "\n",
    "plotting.box_plot(n_edits_df.to_dict(orient=\"list\"), \n",
    "                  color_list=round_colors[1:], \n",
    "                  figsize=(5, 5),\n",
    "                  xlabel=\"Proofreading round\", \n",
    "                  ylabel=\"# Edits / neuron\",\n",
    "                  path=f\"{figure_dir}/edit_number_box.png\")"
   ]
  },
  {
   "cell_type": "code",
   "execution_count": 14,
   "metadata": {},
   "outputs": [],
   "source": [
    "source_data_a_df = pd.DataFrame.from_dict(n_major_edits_dict, orient=\"index\").T\n",
    "source_data_b_df = pd.DataFrame.from_dict(n_edits_dict, orient=\"index\").T"
   ]
  },
  {
   "cell_type": "code",
   "execution_count": 15,
   "metadata": {},
   "outputs": [],
   "source": [
    "source_data_a_df.to_csv(f\"{figure_source_dir}/a_source.csv\")\n",
    "source_data_b_df.to_csv(f\"{figure_source_dir}/b_source.csv\")"
   ]
  },
  {
   "cell_type": "markdown",
   "metadata": {},
   "source": [
    "## Calculating proofreading performance"
   ]
  },
  {
   "cell_type": "code",
   "execution_count": 16,
   "metadata": {},
   "outputs": [],
   "source": [
    "def calc_performance(tp, fn, fp):\n",
    "    precision = tp / (tp + fp)\n",
    "    recall = tp / (tp + fn)\n",
    "    \n",
    "    fscore = 2 * precision * recall / (precision + recall)\n",
    "    if isinstance(fscore, np.ndarray):\n",
    "        fscore[np.isnan(fscore)] = 0\n",
    "    else:\n",
    "        if np.isnan(fscore):\n",
    "            fscore = 0\n",
    "    \n",
    "    return precision, recall, fscore\n",
    "    \n",
    "consolidated_nvx_performance_dict = collections.defaultdict(list)\n",
    "consolidated_nsyn_performance_dict = collections.defaultdict(list)\n",
    "for u_id in nvx_performance_dict.keys():\n",
    "    for i_round in range(3):\n",
    "        vx_entry = nvx_performance_dict[u_id][i_round]\n",
    "        vx_p, vx_r, vx_f = calc_performance(vx_entry[\"tp_nvx\"], vx_entry[\"fn_nvx\"], vx_entry[\"fp_nvx\"])\n",
    "        vx_entry[\"vx_precision\"] = vx_p\n",
    "        vx_entry[\"vx_recall\"] = vx_r\n",
    "        vx_entry[\"vx_fscore\"] = vx_f\n",
    "        consolidated_nvx_performance_dict[i_round].append(vx_entry)\n",
    "        \n",
    "        nsyn_entry = nsyn_performance_dict[u_id][i_round]\n",
    "        nsyn_p, nsyn_r, nsyn_f = calc_performance(np.array(nsyn_entry[\"tp_nsyn\"]), \n",
    "                                                  np.array(nsyn_entry[\"fn_nsyn\"]), \n",
    "                                                  np.array(nsyn_entry[\"fp_nsyn\"]))\n",
    "        nsyn_entry[\"nsyn_precision\"] = nsyn_p\n",
    "        nsyn_entry[\"nsyn_recall\"] = nsyn_r\n",
    "        nsyn_entry[\"nsyn_fscore\"] = nsyn_f\n",
    "        nsyn_p, nsyn_r, nsyn_f = calc_performance(np.sum(nsyn_entry[\"tp_nsyn\"]), \n",
    "                                                  np.sum(nsyn_entry[\"fn_nsyn\"]), \n",
    "                                                  np.sum(nsyn_entry[\"fp_nsyn\"]))\n",
    "        nsyn_entry[\"nsyn_sum_precision\"] = nsyn_p\n",
    "        nsyn_entry[\"nsyn_sum_recall\"] = nsyn_r\n",
    "        nsyn_entry[\"nsyn_sum_fscore\"] = nsyn_f\n",
    "        consolidated_nsyn_performance_dict[i_round].append(nsyn_entry)"
   ]
  },
  {
   "cell_type": "markdown",
   "metadata": {},
   "source": [
    "## Plotting proofreading performances"
   ]
  },
  {
   "cell_type": "code",
   "execution_count": 17,
   "metadata": {},
   "outputs": [],
   "source": [
    "perf_results = pd.DataFrame.from_dict({\n",
    "    \"round\": range(0, 3), \n",
    "    \"mean(F1_vx)\": [np.mean([e[\"vx_fscore\"] for e in consolidated_nvx_performance_dict[k]]) for k in range(3)],\n",
    "    \"median(F1_vx)\": [np.median([e[\"vx_fscore\"] for e in consolidated_nvx_performance_dict[k]]) for k in range(3)],\n",
    "    \"mean(F1_syn)\": [np.mean([e[\"nsyn_sum_fscore\"] for e in consolidated_nsyn_performance_dict[k]]) for k in range(3)],\n",
    "    \"median(F1_syn)\": [np.median([e[\"nsyn_sum_fscore\"] for e in consolidated_nsyn_performance_dict[k]]) for k in range(3)],\n",
    "}).set_index(\"round\")"
   ]
  },
  {
   "cell_type": "code",
   "execution_count": 18,
   "metadata": {},
   "outputs": [
    {
     "data": {
      "text/html": [
       "<div>\n",
       "<style scoped>\n",
       "    .dataframe tbody tr th:only-of-type {\n",
       "        vertical-align: middle;\n",
       "    }\n",
       "\n",
       "    .dataframe tbody tr th {\n",
       "        vertical-align: top;\n",
       "    }\n",
       "\n",
       "    .dataframe thead th {\n",
       "        text-align: right;\n",
       "    }\n",
       "</style>\n",
       "<table border=\"1\" class=\"dataframe\">\n",
       "  <thead>\n",
       "    <tr style=\"text-align: right;\">\n",
       "      <th></th>\n",
       "      <th>mean(F1_vx)</th>\n",
       "      <th>median(F1_vx)</th>\n",
       "      <th>mean(F1_syn)</th>\n",
       "      <th>median(F1_syn)</th>\n",
       "    </tr>\n",
       "    <tr>\n",
       "      <th>round</th>\n",
       "      <th></th>\n",
       "      <th></th>\n",
       "      <th></th>\n",
       "      <th></th>\n",
       "    </tr>\n",
       "  </thead>\n",
       "  <tbody>\n",
       "    <tr>\n",
       "      <th>0</th>\n",
       "      <td>0.665</td>\n",
       "      <td>0.730</td>\n",
       "      <td>0.642</td>\n",
       "      <td>0.724</td>\n",
       "    </tr>\n",
       "    <tr>\n",
       "      <th>1</th>\n",
       "      <td>0.968</td>\n",
       "      <td>0.989</td>\n",
       "      <td>0.942</td>\n",
       "      <td>0.988</td>\n",
       "    </tr>\n",
       "    <tr>\n",
       "      <th>2</th>\n",
       "      <td>0.984</td>\n",
       "      <td>0.999</td>\n",
       "      <td>0.970</td>\n",
       "      <td>0.998</td>\n",
       "    </tr>\n",
       "  </tbody>\n",
       "</table>\n",
       "</div>"
      ],
      "text/plain": [
       "       mean(F1_vx)  median(F1_vx)  mean(F1_syn)  median(F1_syn)\n",
       "round                                                          \n",
       "0            0.665          0.730         0.642           0.724\n",
       "1            0.968          0.989         0.942           0.988\n",
       "2            0.984          0.999         0.970           0.998"
      ]
     },
     "execution_count": 18,
     "metadata": {},
     "output_type": "execute_result"
    }
   ],
   "source": [
    "perf_results.round(3)"
   ]
  },
  {
   "cell_type": "code",
   "execution_count": 19,
   "metadata": {},
   "outputs": [
    {
     "data": {
      "image/png": "[encoded data removed]",
      "text/plain": [
       "<Figure size 360x360 with 1 Axes>"
      ]
     },
     "metadata": {},
     "output_type": "display_data"
    },
    {
     "data": {
      "image/png": "[encoded data removed]",
      "text/plain": [
       "<Figure size 360x360 with 1 Axes>"
      ]
     },
     "metadata": {},
     "output_type": "display_data"
    }
   ],
   "source": [
    "data_dict_nvx = {round_labels[k]: [e[\"vx_fscore\"] for e in consolidated_nvx_performance_dict[k]] for k in consolidated_nvx_performance_dict}\n",
    "data_dict_nsyn = {round_labels[k]: [e[\"nsyn_sum_fscore\"] for e in consolidated_nsyn_performance_dict[k]] for k in consolidated_nsyn_performance_dict} \n",
    "\n",
    "plotting.box_plot(data_dict_nvx,\n",
    "                  color_list=round_colors, \n",
    "                  ylabel=\"Volumetric F1-score\",\n",
    "                  figsize=(5, 5),\n",
    "                  xlabel=\"Proofreading round\",\n",
    "                  path=f\"{figure_dir}/volumetric_fscore_box.png\",\n",
    "                  yrange=[-0.05, 1.05])\n",
    "\n",
    "plotting.box_plot(data_dict_nsyn,\n",
    "                  color_list=round_colors, \n",
    "                  ylabel=\"Synapsewise F1-score\", \n",
    "                  figsize=(5, 5), \n",
    "                  xlabel=\"Proofreading round\",\n",
    "                  path=f\"{figure_dir}/synapsewise_fscore_box.png\", \n",
    "                  yrange=[-0.05, 1.05])"
   ]
  },
  {
   "cell_type": "code",
   "execution_count": 20,
   "metadata": {},
   "outputs": [],
   "source": [
    "source_data_c_df = pd.DataFrame.from_dict(data_dict_nvx, orient=\"index\").T\n",
    "source_data_d_df = pd.DataFrame.from_dict(data_dict_nsyn, orient=\"index\").T"
   ]
  },
  {
   "cell_type": "code",
   "execution_count": 21,
   "metadata": {},
   "outputs": [],
   "source": [
    "source_data_c_df.to_csv(f\"{figure_source_dir}/c_source.csv\")\n",
    "source_data_d_df.to_csv(f\"{figure_source_dir}/d_source.csv\")"
   ]
  },
  {
   "cell_type": "markdown",
   "metadata": {},
   "source": [
    "## Faster proofreading"
   ]
  },
  {
   "cell_type": "markdown",
   "metadata": {},
   "source": [
    "Similar to above, we calculate the scores for the fast proofreading rounds.\n",
    "\n",
    "Not all neurons were included in the fast proofreading regiment. We combine the scores from the fast proofreading approach with the scores from the standard proofreading by selecting the scores for the neurons that were included in both."
   ]
  },
  {
   "cell_type": "code",
   "execution_count": 22,
   "metadata": {},
   "outputs": [],
   "source": [
    "combined_nvx_performance_dict = collections.defaultdict(list)\n",
    "combined_nsyn_performance_dict = collections.defaultdict(list)\n",
    "\n",
    "for u_id in nvx_fast_performance_dict.keys():\n",
    "    vx_entry = nvx_fast_performance_dict[u_id]\n",
    "    vx_p, vx_r, vx_f = calc_performance(vx_entry[\"tp_nvx\"], vx_entry[\"fn_nvx\"], vx_entry[\"fp_nvx\"])\n",
    "    vx_entry[\"vx_precision\"] = vx_p\n",
    "    vx_entry[\"vx_recall\"] = vx_r\n",
    "    vx_entry[\"vx_fscore\"] = vx_f\n",
    "    combined_nvx_performance_dict[100].append(vx_entry)\n",
    "\n",
    "    nsyn_entry = nsyn_fast_performance_dict[u_id]\n",
    "    nsyn_p, nsyn_r, nsyn_f = calc_performance(np.array(nsyn_entry[\"tp_nsyn\"]), \n",
    "                                              np.array(nsyn_entry[\"fn_nsyn\"]), \n",
    "                                              np.array(nsyn_entry[\"fp_nsyn\"]))\n",
    "    nsyn_entry[\"nsyn_precision\"] = nsyn_p\n",
    "    nsyn_entry[\"nsyn_recall\"] = nsyn_r\n",
    "    nsyn_entry[\"nsyn_fscore\"] = nsyn_f\n",
    "    nsyn_p, nsyn_r, nsyn_f = calc_performance(np.sum(nsyn_entry[\"tp_nsyn\"]), \n",
    "                                              np.sum(nsyn_entry[\"fn_nsyn\"]), \n",
    "                                              np.sum(nsyn_entry[\"fp_nsyn\"]))\n",
    "    nsyn_entry[\"nsyn_sum_precision\"] = nsyn_p\n",
    "    nsyn_entry[\"nsyn_sum_recall\"] = nsyn_r\n",
    "    nsyn_entry[\"nsyn_sum_fscore\"] = nsyn_f\n",
    "    combined_nsyn_performance_dict[100].append(nsyn_entry)\n",
    "    \n",
    "    \n",
    "    for i_round in range(3):\n",
    "        vx_entry = nvx_performance_dict[u_id][i_round]\n",
    "        vx_p, vx_r, vx_f = calc_performance(vx_entry[\"tp_nvx\"], vx_entry[\"fn_nvx\"], vx_entry[\"fp_nvx\"])\n",
    "        vx_entry[\"vx_precision\"] = vx_p\n",
    "        vx_entry[\"vx_recall\"] = vx_r\n",
    "        vx_entry[\"vx_fscore\"] = vx_f\n",
    "        combined_nvx_performance_dict[i_round].append(vx_entry)\n",
    "\n",
    "        nsyn_entry = nsyn_performance_dict[u_id][i_round]\n",
    "        nsyn_p, nsyn_r, nsyn_f = calc_performance(np.array(nsyn_entry[\"tp_nsyn\"]), \n",
    "                                                  np.array(nsyn_entry[\"fn_nsyn\"]), \n",
    "                                                  np.array(nsyn_entry[\"fp_nsyn\"]))\n",
    "        nsyn_entry[\"nsyn_precision\"] = nsyn_p\n",
    "        nsyn_entry[\"nsyn_recall\"] = nsyn_r\n",
    "        nsyn_entry[\"nsyn_fscore\"] = nsyn_f\n",
    "        nsyn_p, nsyn_r, nsyn_f = calc_performance(np.sum(nsyn_entry[\"tp_nsyn\"]), \n",
    "                                                  np.sum(nsyn_entry[\"fn_nsyn\"]), \n",
    "                                                  np.sum(nsyn_entry[\"fp_nsyn\"]))\n",
    "        nsyn_entry[\"nsyn_sum_precision\"] = nsyn_p\n",
    "        nsyn_entry[\"nsyn_sum_recall\"] = nsyn_r\n",
    "        nsyn_entry[\"nsyn_sum_fscore\"] = nsyn_f\n",
    "        combined_nsyn_performance_dict[i_round].append(nsyn_entry)"
   ]
  },
  {
   "cell_type": "markdown",
   "metadata": {},
   "source": [
    "## Plotting faster proofreading performances"
   ]
  },
  {
   "cell_type": "code",
   "execution_count": 23,
   "metadata": {},
   "outputs": [],
   "source": [
    "perf_results = pd.DataFrame.from_dict({\n",
    "    \"round\": [0, 1, 2, \"fast\"], \n",
    "    \"mean(F1_vx)\": [np.mean([e[\"vx_fscore\"] for e in combined_nvx_performance_dict[k]]) for k in [0, 1, 2, 100]],\n",
    "    \"median(F1_vx)\": [np.median([e[\"vx_fscore\"] for e in combined_nvx_performance_dict[k]]) for k in [0, 1, 2, 100]],\n",
    "    \"mean(F1_syn)\": [np.mean([e[\"nsyn_sum_fscore\"] for e in combined_nsyn_performance_dict[k]]) for k in [0, 1, 2, 100]],\n",
    "    \"median(F1_syn)\": [np.median([e[\"nsyn_sum_fscore\"] for e in combined_nsyn_performance_dict[k]]) for k in [0, 1, 2, 100]],\n",
    "}).set_index(\"round\")"
   ]
  },
  {
   "cell_type": "code",
   "execution_count": 24,
   "metadata": {},
   "outputs": [
    {
     "data": {
      "text/html": [
       "<div>\n",
       "<style scoped>\n",
       "    .dataframe tbody tr th:only-of-type {\n",
       "        vertical-align: middle;\n",
       "    }\n",
       "\n",
       "    .dataframe tbody tr th {\n",
       "        vertical-align: top;\n",
       "    }\n",
       "\n",
       "    .dataframe thead th {\n",
       "        text-align: right;\n",
       "    }\n",
       "</style>\n",
       "<table border=\"1\" class=\"dataframe\">\n",
       "  <thead>\n",
       "    <tr style=\"text-align: right;\">\n",
       "      <th></th>\n",
       "      <th>mean(F1_vx)</th>\n",
       "      <th>median(F1_vx)</th>\n",
       "      <th>mean(F1_syn)</th>\n",
       "      <th>median(F1_syn)</th>\n",
       "    </tr>\n",
       "    <tr>\n",
       "      <th>round</th>\n",
       "      <th></th>\n",
       "      <th></th>\n",
       "      <th></th>\n",
       "      <th></th>\n",
       "    </tr>\n",
       "  </thead>\n",
       "  <tbody>\n",
       "    <tr>\n",
       "      <th>0</th>\n",
       "      <td>0.729</td>\n",
       "      <td>0.777</td>\n",
       "      <td>0.746</td>\n",
       "      <td>0.799</td>\n",
       "    </tr>\n",
       "    <tr>\n",
       "      <th>1</th>\n",
       "      <td>0.975</td>\n",
       "      <td>0.992</td>\n",
       "      <td>0.958</td>\n",
       "      <td>0.992</td>\n",
       "    </tr>\n",
       "    <tr>\n",
       "      <th>2</th>\n",
       "      <td>0.992</td>\n",
       "      <td>0.999</td>\n",
       "      <td>0.986</td>\n",
       "      <td>0.999</td>\n",
       "    </tr>\n",
       "    <tr>\n",
       "      <th>fast</th>\n",
       "      <td>0.968</td>\n",
       "      <td>0.988</td>\n",
       "      <td>0.945</td>\n",
       "      <td>0.988</td>\n",
       "    </tr>\n",
       "  </tbody>\n",
       "</table>\n",
       "</div>"
      ],
      "text/plain": [
       "       mean(F1_vx)  median(F1_vx)  mean(F1_syn)  median(F1_syn)\n",
       "round                                                          \n",
       "0            0.729          0.777         0.746           0.799\n",
       "1            0.975          0.992         0.958           0.992\n",
       "2            0.992          0.999         0.986           0.999\n",
       "fast         0.968          0.988         0.945           0.988"
      ]
     },
     "execution_count": 24,
     "metadata": {},
     "output_type": "execute_result"
    }
   ],
   "source": [
    "perf_results.round(3)"
   ]
  },
  {
   "cell_type": "code",
   "execution_count": 25,
   "metadata": {},
   "outputs": [
    {
     "data": {
      "image/png": "[encoded data removed]",
      "text/plain": [
       "<Figure size 360x360 with 1 Axes>"
      ]
     },
     "metadata": {},
     "output_type": "display_data"
    },
    {
     "data": {
      "image/png": "[encoded data removed]",
      "text/plain": [
       "<Figure size 360x360 with 1 Axes>"
      ]
     },
     "metadata": {},
     "output_type": "display_data"
    }
   ],
   "source": [
    "data_dict_nvx = {round_labels_ext[k]: [e[\"vx_fscore\"] for e in combined_nvx_performance_dict[k]] for k in np.sort(list(combined_nvx_performance_dict))}\n",
    "data_dict_nsyn = {round_labels_ext[k]: [e[\"nsyn_sum_fscore\"] for e in combined_nsyn_performance_dict[k]] for k in np.sort(list(combined_nsyn_performance_dict))} \n",
    "\n",
    "plotting.box_plot(data_dict_nvx,\n",
    "                  color_list=round_colors, \n",
    "                  ylabel=\"Volumetric F1-score\",\n",
    "                  figsize=(5, 5),\n",
    "                  xlabel=\"Proofreading round\",\n",
    "                  path=f\"{figure_dir}/volumetric_fscore_box_fast.png\",\n",
    "                  yrange=[-0.05, 1.05])\n",
    "\n",
    "plotting.box_plot(data_dict_nsyn,\n",
    "                  color_list=round_colors, \n",
    "                  ylabel=\"Synapsewise F1-score\", \n",
    "                  figsize=(5, 5), \n",
    "                  xlabel=\"Proofreading round\",\n",
    "                  path=f\"{figure_dir}/synapsewise_fscore_box_fast.png\", \n",
    "                  yrange=[-0.05, 1.05])"
   ]
  },
  {
   "cell_type": "code",
   "execution_count": 26,
   "metadata": {},
   "outputs": [],
   "source": [
    "source_data_ext_a_df = pd.DataFrame.from_dict(data_dict_nvx, orient=\"index\").T\n",
    "source_data_ext_b_df = pd.DataFrame.from_dict(data_dict_nsyn, orient=\"index\").T"
   ]
  },
  {
   "cell_type": "code",
   "execution_count": 27,
   "metadata": {},
   "outputs": [],
   "source": [
    "source_data_ext_a_df.to_csv(f\"{figure_source_dir}/ext_a_source.csv\")\n",
    "source_data_ext_b_df.to_csv(f\"{figure_source_dir}/ext_b_source.csv\")"
   ]
  }
 ],
 "metadata": {
  "kernelspec": {
   "display_name": "Python 3",
   "language": "python",
   "name": "python3"
  },
  "language_info": {
   "codemirror_mode": {
    "name": "ipython",
    "version": 3
   },
   "file_extension": ".py",
   "mimetype": "text/x-python",
   "name": "python",
   "nbconvert_exporter": "python",
   "pygments_lexer": "ipython3",
   "version": "3.8.5"
  }
 },
 "nbformat": 4,
 "nbformat_minor": 4
}
