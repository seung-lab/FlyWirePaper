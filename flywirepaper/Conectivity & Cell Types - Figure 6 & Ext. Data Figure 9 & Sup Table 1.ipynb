{
 "cells": [
  {
   "cell_type": "markdown",
   "metadata": {},
   "source": [
    "## Connectivity and Cell Types - Figure 6\n",
    "\n",
    "This notebook creates the plots and data presented in Figure 6, Ext. Data Figure 9 and Sup Table 1 of the FlyWire paper. It also shows how cell types were defined based on conectivity."
   ]
  },
  {
   "cell_type": "code",
   "execution_count": 1,
   "metadata": {},
   "outputs": [],
   "source": [
    "import os\n",
    "import dill\n",
    "import warnings\n",
    "import pandas as pd\n",
    "import numpy as np\n",
    "from scipy import spatial\n",
    "import itertools\n",
    "from collections.abc import Iterable\n",
    "\n",
    "warnings.filterwarnings(\"ignore\")"
   ]
  },
  {
   "cell_type": "code",
   "execution_count": 2,
   "metadata": {},
   "outputs": [],
   "source": [
    "from flywirepaper import plotting"
   ]
  },
  {
   "cell_type": "markdown",
   "metadata": {},
   "source": [
    "## Define relevant paths and create directories"
   ]
  },
  {
   "cell_type": "code",
   "execution_count": 3,
   "metadata": {},
   "outputs": [],
   "source": [
    "data_dir = f\"{os.path.realpath('')}/../data\"\n",
    "figure_dir = f\"{os.path.realpath('')}/../figures/figure_6/\"\n",
    "figure_source_dir = f\"{os.path.realpath('')}/../figures/figure_source_6/\"\n",
    "\n",
    "if not os.path.exists(figure_dir):\n",
    "    os.makedirs(figure_dir)\n",
    "    \n",
    "if not os.path.exists(figure_source_dir):\n",
    "    os.makedirs(figure_source_dir)"
   ]
  },
  {
   "cell_type": "markdown",
   "metadata": {},
   "source": [
    "## Loading the connectivity and cell type data"
   ]
  },
  {
   "cell_type": "code",
   "execution_count": 4,
   "metadata": {},
   "outputs": [],
   "source": [
    "unfiltered_synapse_df = pd.read_hdf(f\"{data_dir}/mech_synapses_unfiltered.h5\", \"data\")"
   ]
  },
  {
   "cell_type": "code",
   "execution_count": 5,
   "metadata": {},
   "outputs": [],
   "source": [
    "mech_cell_types = pd.read_csv(f\"{data_dir}/mech_celltypes_unfiltered.csv\")"
   ]
  },
  {
   "cell_type": "code",
   "execution_count": 6,
   "metadata": {},
   "outputs": [],
   "source": [
    "false_pos_celltype_pairs = pd.read_csv(f\"{data_dir}/false_pos_celltype_pairs.csv\")"
   ]
  },
  {
   "cell_type": "code",
   "execution_count": 7,
   "metadata": {},
   "outputs": [],
   "source": [
    "with open(f\"{data_dir}/cell_type_dict_unfiltered.dl\", \"rb\") as f:\n",
    "    cell_type_dict = dill.load(f)\n",
    "    \n",
    "cell_type_dict_vec = np.vectorize(cell_type_dict.get)"
   ]
  },
  {
   "cell_type": "code",
   "execution_count": 8,
   "metadata": {},
   "outputs": [],
   "source": [
    "with open(f\"{data_dir}/color_dict.dl\", \"rb\") as f:\n",
    "    cell_type_color_dict = dill.load(f)\n",
    "    \n",
    "for k in list(cell_type_color_dict.keys()):\n",
    "    if \",\" in str(k):\n",
    "        cell_type_color_dict[k.split(\",\")[0]] = cell_type_color_dict[k]"
   ]
  },
  {
   "cell_type": "markdown",
   "metadata": {},
   "source": [
    "## Synapse filtering\n",
    "\n",
    "We filter synapses between the two partners if they are within 150 nm. We further filter synapses with low `cleft_scores` to eliminate false positives."
   ]
  },
  {
   "cell_type": "code",
   "execution_count": 9,
   "metadata": {},
   "outputs": [],
   "source": [
    "def distance_filter_syn_mask(synapse_df):\n",
    "    pre_coords = np.array(synapse_df[[\"pre_x\", \"pre_y\", \"pre_z\"]])\n",
    "    connections = np.array(synapse_df[[\"pre_id\", \"post_id\"]], dtype=np.uint64)\n",
    "    connections = np.ascontiguousarray(connections)\n",
    "\n",
    "    connections_v = connections.view(dtype='u8,u8').reshape(-1)\n",
    "    pre_syn_kdtree = spatial.cKDTree(pre_coords)\n",
    "\n",
    "    clustered_syn_ids = pre_syn_kdtree.query_ball_point(pre_coords, r=150)\n",
    "\n",
    "    removed_ids = set()\n",
    "    valid_ids = []\n",
    "    for i_cl in range(len(clustered_syn_ids)):\n",
    "        if connections[i_cl, 0] == connections[i_cl, 1]:\n",
    "            removed_ids.add(i_cl)\n",
    "            continue\n",
    "        \n",
    "        if i_cl in removed_ids:\n",
    "            continue\n",
    "\n",
    "        if len(clustered_syn_ids[i_cl]) > 1:\n",
    "            local_cluster_ids = np.array(clustered_syn_ids[i_cl])\n",
    "            conn_m = connections_v[local_cluster_ids] == connections_v[i_cl]\n",
    "            for id_ in local_cluster_ids[conn_m]:\n",
    "                if id_ == i_cl:\n",
    "                    continue\n",
    "\n",
    "                removed_ids.add(id_)\n",
    "        valid_ids.append(i_cl)\n",
    "\n",
    "    valid_ids = np.array(valid_ids)\n",
    "    removed_ids = np.array(list(removed_ids))\n",
    "    \n",
    "    assert len(valid_ids) + len(removed_ids) == len(clustered_syn_ids)\n",
    "\n",
    "    syn_mask = np.ones(len(synapse_df), dtype=np.bool)\n",
    "    syn_mask[removed_ids] = False\n",
    "    \n",
    "    return syn_mask"
   ]
  },
  {
   "cell_type": "code",
   "execution_count": 10,
   "metadata": {},
   "outputs": [],
   "source": [
    "synapse_df = unfiltered_synapse_df[unfiltered_synapse_df[\"cleft score\"] >= 50]\n",
    "synapse_df = synapse_df[synapse_df[\"pre_id\"] != synapse_df[\"post_id\"]]"
   ]
  },
  {
   "cell_type": "code",
   "execution_count": 11,
   "metadata": {},
   "outputs": [],
   "source": [
    "dist_mask = distance_filter_syn_mask(synapse_df)\n",
    "synapse_df = synapse_df[dist_mask]"
   ]
  },
  {
   "cell_type": "markdown",
   "metadata": {},
   "source": [
    "## Build wiring matrix"
   ]
  },
  {
   "cell_type": "code",
   "execution_count": 12,
   "metadata": {},
   "outputs": [],
   "source": [
    "# Initialize with empty connections\n",
    "all_possible_connections = np.array(list(itertools.product(cell_type_dict.keys(), cell_type_dict.keys())))\n",
    "\n",
    "# Update with actual connections\n",
    "connections = np.array(synapse_df[[\"pre_id\", \"post_id\"]], dtype=np.uint64)\n",
    "\n",
    "connection_dict = {\"pre_id\": np.concatenate([all_possible_connections[:, 0], connections[:, 0]]),\n",
    "                   \"post_id\": np.concatenate([all_possible_connections[:, 1], connections[:, 1]]),\n",
    "                   \"nsyn\": np.concatenate([np.zeros(len(all_possible_connections), dtype=np.int), np.ones(len(connections), dtype=np.int)])}\n",
    "\n",
    "df = pd.DataFrame.from_dict(connection_dict)\n",
    "mech_df = df.groupby([\"pre_id\", \"post_id\"]).aggregate({\"nsyn\": np.sum}).reset_index()\n",
    "\n",
    "mech_df[\"pre_type\"] = cell_type_dict_vec(mech_df[\"pre_id\"])\n",
    "mech_df[\"post_type\"] = cell_type_dict_vec(mech_df[\"post_id\"])"
   ]
  },
  {
   "cell_type": "markdown",
   "metadata": {},
   "source": [
    "We evaluated a sample of synapses between all cell type - cell type connections. For some cell type - cell type connections we found no synapses and removed all automatically detected ones."
   ]
  },
  {
   "cell_type": "code",
   "execution_count": 13,
   "metadata": {},
   "outputs": [],
   "source": [
    "coarse_cts = np.array([[ct.split(\",\")[0] for ct in np.array(mech_df[\"pre_type\"])],\n",
    "                       [ct.split(\",\")[0] for ct in np.array(mech_df[\"post_type\"])]]).T\n",
    "\n",
    "for rm_pair in np.array(false_pos_celltype_pairs):\n",
    "    mask = np.logical_and(coarse_cts[:, 0] == rm_pair[0], coarse_cts[:, 1] == rm_pair[1])\n",
    "    mech_df[\"nsyn\"][mask] = 0"
   ]
  },
  {
   "cell_type": "markdown",
   "metadata": {},
   "source": [
    "## Sub cell typing"
   ]
  },
  {
   "cell_type": "code",
   "execution_count": 14,
   "metadata": {},
   "outputs": [],
   "source": [
    "def add_subtypes(neuron_ids, sub_type):\n",
    "    if not isinstance(neuron_ids, Iterable):\n",
    "        neuron_ids = [neuron_ids]\n",
    "        \n",
    "    for neuron_id in neuron_ids:\n",
    "        assert neuron_id not in sub_cell_type_dict\n",
    "        sub_cell_type_dict[neuron_id] = sub_type\n",
    "        \n",
    "    pre_m = np.isin(mech_sub_df[\"pre_id\"], neuron_ids)\n",
    "    post_m = np.isin(mech_sub_df[\"post_id\"], neuron_ids)\n",
    "\n",
    "    mech_sub_df[\"pre_subtype\"][pre_m] = sub_type\n",
    "    mech_sub_df[\"post_subtype\"][post_m] = sub_type"
   ]
  },
  {
   "cell_type": "code",
   "execution_count": 15,
   "metadata": {},
   "outputs": [],
   "source": [
    "sub_cell_type_dict = {}\n",
    "mech_sub_df = mech_df.copy()\n",
    "mech_sub_df[\"pre_subtype\"] = \"\"\n",
    "mech_sub_df[\"post_subtype\"] = \"\""
   ]
  },
  {
   "cell_type": "markdown",
   "metadata": {},
   "source": [
    "### WED-VLP"
   ]
  },
  {
   "cell_type": "markdown",
   "metadata": {},
   "source": [
    "WED-VLP: Neurons receiving more than 10 synapses from the ipsilateral AMMC-A2 were classified as WED-VLP-1, all others as WED-VLP-2."
   ]
  },
  {
   "cell_type": "code",
   "execution_count": 16,
   "metadata": {},
   "outputs": [],
   "source": [
    "wedvlp_post_mask = np.isin(mech_df[\"post_type\"], [\"WED-VLP, right\", \"WED-VLP, left\"])\n",
    "wedvlp_post_df = mech_df[wedvlp_post_mask]"
   ]
  },
  {
   "cell_type": "code",
   "execution_count": 17,
   "metadata": {},
   "outputs": [],
   "source": [
    "wedvlp_post_dfg = wedvlp_post_df.groupby([\"pre_type\", \"post_id\"], as_index=False).aggregate({\"nsyn\": \"sum\", \"post_type\": \"min\"})\n",
    "\n",
    "wedvlp_ammca2_left_mask = np.logical_and(wedvlp_post_dfg[\"pre_type\"] == \"AMMC-A2, left\",\n",
    "                                         wedvlp_post_dfg[\"post_type\"] == \"WED-VLP, left\")\n",
    "  \n",
    "wedvlp_ammca2_right_mask = np.logical_and(wedvlp_post_dfg[\"pre_type\"] == \"AMMC-A2, right\",\n",
    "                                          wedvlp_post_dfg[\"post_type\"] == \"WED-VLP, right\")"
   ]
  },
  {
   "cell_type": "code",
   "execution_count": 18,
   "metadata": {},
   "outputs": [],
   "source": [
    "wedvlp_ammc_left_10_mask = wedvlp_post_dfg[wedvlp_ammca2_left_mask][\"nsyn\"] > 10\n",
    "wedvlp_ammc_right_10_mask = wedvlp_post_dfg[wedvlp_ammca2_right_mask][\"nsyn\"] > 10\n",
    "\n",
    "add_subtypes(np.array(wedvlp_post_dfg[wedvlp_ammca2_left_mask][wedvlp_ammc_left_10_mask][\"post_id\"]), \"WED-VLP-1, left\")\n",
    "add_subtypes(np.array(wedvlp_post_dfg[wedvlp_ammca2_left_mask][~wedvlp_ammc_left_10_mask][\"post_id\"]), \"WED-VLP-2, left\")\n",
    "\n",
    "add_subtypes(np.array(wedvlp_post_dfg[wedvlp_ammca2_right_mask][wedvlp_ammc_right_10_mask][\"post_id\"]), \"WED-VLP-1, right\")\n",
    "add_subtypes(np.array(wedvlp_post_dfg[wedvlp_ammca2_right_mask][~wedvlp_ammc_right_10_mask][\"post_id\"]), \"WED-VLP-2, right\")"
   ]
  },
  {
   "cell_type": "markdown",
   "metadata": {},
   "source": [
    "### AMMC-B1"
   ]
  },
  {
   "cell_type": "markdown",
   "metadata": {},
   "source": [
    "AMMC-B1: We first selected neurons with more than 30 synapses onto any WED-VLP. These were then labeled as AMMC-B1-1 if they made more than 50% of their WED-VLP synapses onto WED-VLP-1 and AMMC-B1-2 otherwise. Out of the remaining AMMC-B1 neurons (not -1 or -2), those with more than 80 synapses onto any WV-WV neuron were labeled as AMMC-B1-4. From the remaining AMMC-B1 cells, we labeled those as AMMC-B1-3 if they made at least 20 synapses onto AMMC-A1, AMMC-A2 and GFN cells combined. The remaining cells were classified as AMMC-B1-u. \n"
   ]
  },
  {
   "cell_type": "markdown",
   "metadata": {},
   "source": [
    "#### AMMC-B1-1 & - 2"
   ]
  },
  {
   "cell_type": "markdown",
   "metadata": {},
   "source": [
    "We first selected neurons with more than 30 synapses onto any WED-VLP."
   ]
  },
  {
   "cell_type": "code",
   "execution_count": 19,
   "metadata": {},
   "outputs": [],
   "source": [
    "# Selecting connectivity from AMMC-B1 -> WED-VLP\n",
    "ammcb1_pre_mask = np.isin(mech_sub_df[\"pre_type\"], [\"AMMC-B1, right\", \"AMMC-B1, left\"])\n",
    "wedvlp_post_mask = np.isin(mech_sub_df[\"post_type\"], [\"WED-VLP, right\", \"WED-VLP, left\"])\n",
    "\n",
    "wedvlp_ammcb1_df = mech_sub_df[np.logical_and(ammcb1_pre_mask, wedvlp_post_mask)].copy()"
   ]
  },
  {
   "cell_type": "code",
   "execution_count": 20,
   "metadata": {},
   "outputs": [],
   "source": [
    "# Grouping by AMMC-B1 and summing synapses. Selecting AMMC-B1s with more than 30 synapses onto all WED-VLPs\n",
    "\n",
    "ammcb1_dfg = wedvlp_ammcb1_df.groupby([\"pre_id\"], as_index=False).aggregate({\"nsyn\": \"sum\"})\n",
    "ammcb1_12_ids = np.array(ammcb1_dfg[ammcb1_dfg[\"nsyn\"] >= 30][\"pre_id\"])\n",
    "wedvlp_ammcb1_12_df = wedvlp_ammcb1_df[np.isin(wedvlp_ammcb1_df[\"pre_id\"], ammcb1_12_ids)]"
   ]
  },
  {
   "cell_type": "markdown",
   "metadata": {},
   "source": [
    "These were then labeled as AMMC-B1-1 if they made more than 50% of their WED-VLP synapses onto WED-VLP-1 and AMMC-B1-2 otherwise."
   ]
  },
  {
   "cell_type": "code",
   "execution_count": 21,
   "metadata": {},
   "outputs": [],
   "source": [
    "# Rewriting the subtypes to omit hemispheres for wed-vlps\n",
    "wedvlp_ammcb1_12_df[\"post_subtype\"] = [c.split(\",\")[0] for c in wedvlp_ammcb1_12_df[\"post_subtype\"]]\n",
    "\n",
    "# Grouping by AMMC-B1 and counting synapses per wedvlp subtype\n",
    "wedvlp_ammcb1_12_dfg = wedvlp_ammcb1_12_df.groupby([\"pre_id\", \"post_subtype\"]).aggregate({\"nsyn\": \"sum\"})"
   ]
  },
  {
   "cell_type": "code",
   "execution_count": 22,
   "metadata": {},
   "outputs": [
    {
     "data": {
      "text/html": [
       "<div>\n",
       "<style scoped>\n",
       "    .dataframe tbody tr th:only-of-type {\n",
       "        vertical-align: middle;\n",
       "    }\n",
       "\n",
       "    .dataframe tbody tr th {\n",
       "        vertical-align: top;\n",
       "    }\n",
       "\n",
       "    .dataframe thead th {\n",
       "        text-align: right;\n",
       "    }\n",
       "</style>\n",
       "<table border=\"1\" class=\"dataframe\">\n",
       "  <thead>\n",
       "    <tr style=\"text-align: right;\">\n",
       "      <th></th>\n",
       "      <th></th>\n",
       "      <th>nsyn</th>\n",
       "    </tr>\n",
       "    <tr>\n",
       "      <th>pre_id</th>\n",
       "      <th>post_subtype</th>\n",
       "      <th></th>\n",
       "    </tr>\n",
       "  </thead>\n",
       "  <tbody>\n",
       "    <tr>\n",
       "      <th rowspan=\"2\" valign=\"top\">720575940606332629</th>\n",
       "      <th>WED-VLP-1</th>\n",
       "      <td>137</td>\n",
       "    </tr>\n",
       "    <tr>\n",
       "      <th>WED-VLP-2</th>\n",
       "      <td>9</td>\n",
       "    </tr>\n",
       "    <tr>\n",
       "      <th rowspan=\"2\" valign=\"top\">720575940607188036</th>\n",
       "      <th>WED-VLP-1</th>\n",
       "      <td>208</td>\n",
       "    </tr>\n",
       "    <tr>\n",
       "      <th>WED-VLP-2</th>\n",
       "      <td>0</td>\n",
       "    </tr>\n",
       "    <tr>\n",
       "      <th rowspan=\"2\" valign=\"top\">720575940607371076</th>\n",
       "      <th>WED-VLP-1</th>\n",
       "      <td>2</td>\n",
       "    </tr>\n",
       "    <tr>\n",
       "      <th>WED-VLP-2</th>\n",
       "      <td>155</td>\n",
       "    </tr>\n",
       "    <tr>\n",
       "      <th rowspan=\"2\" valign=\"top\">720575940609843865</th>\n",
       "      <th>WED-VLP-1</th>\n",
       "      <td>165</td>\n",
       "    </tr>\n",
       "    <tr>\n",
       "      <th>WED-VLP-2</th>\n",
       "      <td>1</td>\n",
       "    </tr>\n",
       "    <tr>\n",
       "      <th rowspan=\"2\" valign=\"top\">720575940611277293</th>\n",
       "      <th>WED-VLP-1</th>\n",
       "      <td>198</td>\n",
       "    </tr>\n",
       "    <tr>\n",
       "      <th>WED-VLP-2</th>\n",
       "      <td>0</td>\n",
       "    </tr>\n",
       "  </tbody>\n",
       "</table>\n",
       "</div>"
      ],
      "text/plain": [
       "                                 nsyn\n",
       "pre_id             post_subtype      \n",
       "720575940606332629 WED-VLP-1      137\n",
       "                   WED-VLP-2        9\n",
       "720575940607188036 WED-VLP-1      208\n",
       "                   WED-VLP-2        0\n",
       "720575940607371076 WED-VLP-1        2\n",
       "                   WED-VLP-2      155\n",
       "720575940609843865 WED-VLP-1      165\n",
       "                   WED-VLP-2        1\n",
       "720575940611277293 WED-VLP-1      198\n",
       "                   WED-VLP-2        0"
      ]
     },
     "execution_count": 22,
     "metadata": {},
     "output_type": "execute_result"
    }
   ],
   "source": [
    "wedvlp_ammcb1_12_dfg.head(10)"
   ]
  },
  {
   "cell_type": "code",
   "execution_count": 23,
   "metadata": {},
   "outputs": [],
   "source": [
    "# Extracting subtypes\n",
    "\n",
    "ammc_b1_12_intsubtypes = []\n",
    "for ammcb1_id in ammcb1_12_ids:\n",
    "    sub_df = wedvlp_ammcb1_12_dfg.loc[ammcb1_id].reset_index()\n",
    "\n",
    "    if sub_df[sub_df[\"nsyn\"] == sub_df[\"nsyn\"].max()][\"post_subtype\"].values[0].endswith(\"1\"):        \n",
    "        sub_celltype = cell_type_dict[ammcb1_id].replace(\",\", \"-1,\")\n",
    "    else:\n",
    "        sub_celltype = cell_type_dict[ammcb1_id].replace(\",\", \"-2,\")\n",
    "        \n",
    "    add_subtypes(ammcb1_id, sub_celltype)"
   ]
  },
  {
   "cell_type": "markdown",
   "metadata": {},
   "source": [
    "#### AMMC-B1-4"
   ]
  },
  {
   "cell_type": "markdown",
   "metadata": {},
   "source": [
    "From the remaining AMMC-B1 cells, we labeled those as AMMC-B1-4 if they made at least 20 synapses onto AMMC-A1, AMMC-A2 and GFN cells combined. "
   ]
  },
  {
   "cell_type": "code",
   "execution_count": 24,
   "metadata": {},
   "outputs": [],
   "source": [
    "# Conectivity of the remaining AMMC-B1s\n",
    "ammcb1r_pre_mask = np.isin(mech_sub_df[\"pre_subtype\"], [\"\"])\n",
    "ammcb1_pre_mask = np.isin(mech_sub_df[\"pre_type\"], [\"AMMC-B1, right\", \"AMMC-B1, left\"])\n",
    "escape_post_mask = np.isin(mech_sub_df[\"post_type\"], [\"GFN, left\", \"GFN, right\",\"AMMC-A1, right\", \"AMMC-A1, left\",\"AMMC-A2, right\", \"AMMC-A2, left\"])\n",
    "\n",
    "mask = ammcb1r_pre_mask * ammcb1_pre_mask * escape_post_mask"
   ]
  },
  {
   "cell_type": "code",
   "execution_count": 25,
   "metadata": {},
   "outputs": [],
   "source": [
    "ammcb1_escape_dfg = mech_sub_df[mask].groupby(\"pre_id\").aggregate({\"nsyn\": \"sum\"})"
   ]
  },
  {
   "cell_type": "code",
   "execution_count": 26,
   "metadata": {},
   "outputs": [],
   "source": [
    "for ammcb1_id in ammcb1_escape_dfg.index:\n",
    "    if ammcb1_escape_dfg.loc[ammcb1_id][\"nsyn\"] > 20:        \n",
    "        sub_celltype = cell_type_dict[ammcb1_id].replace(\",\", \"-4,\")\n",
    "        add_subtypes(ammcb1_id, sub_celltype)"
   ]
  },
  {
   "cell_type": "markdown",
   "metadata": {},
   "source": [
    "#### AMMC-B1-3"
   ]
  },
  {
   "cell_type": "markdown",
   "metadata": {},
   "source": [
    "Out of the remaining AMMC-B1 neurons (not -1, -2 or -4), those with more than 80 synapses onto any WV-WV neuron were labeled as AMMC-B1-3"
   ]
  },
  {
   "cell_type": "code",
   "execution_count": 27,
   "metadata": {},
   "outputs": [],
   "source": [
    "# Conectivity of the remaining AMMC-B1s onto WV-WV\n",
    "ammcb1r_pre_mask = np.isin(mech_sub_df[\"pre_subtype\"], [\"\"])\n",
    "ammcb1_pre_mask = np.isin(mech_sub_df[\"pre_type\"], [\"AMMC-B1, right\", \"AMMC-B1, left\"])\n",
    "wvwv_post_mask = mech_sub_df[\"post_type\"] == \"WV-WV\"\n",
    "\n",
    "mask = wvwv_post_mask * ammcb1_pre_mask * ammcb1r_pre_mask\n",
    "\n",
    "# Aggregate synapses onto wv-wv\n",
    "ammcb1_wvwv_dfg = mech_sub_df[mask].groupby(\"pre_id\").aggregate({\"nsyn\": \"sum\"})"
   ]
  },
  {
   "cell_type": "code",
   "execution_count": 28,
   "metadata": {},
   "outputs": [],
   "source": [
    "for ammcb1_id in ammcb1_wvwv_dfg.index:\n",
    "    if ammcb1_wvwv_dfg.loc[ammcb1_id][\"nsyn\"] > 80:   \n",
    "        sub_celltype = cell_type_dict[ammcb1_id].replace(\",\", \"-3,\")\n",
    "        add_subtypes(ammcb1_id, sub_celltype)"
   ]
  },
  {
   "cell_type": "markdown",
   "metadata": {},
   "source": [
    "#### AMMC-B1u"
   ]
  },
  {
   "cell_type": "markdown",
   "metadata": {},
   "source": [
    "The remaining cells were classified as AMMC-B1-u. "
   ]
  },
  {
   "cell_type": "code",
   "execution_count": 29,
   "metadata": {},
   "outputs": [],
   "source": [
    "ammcb1r_pre_mask = np.isin(mech_sub_df[\"pre_subtype\"], [\"\"])\n",
    "ammcb1_pre_mask = np.isin(mech_sub_df[\"pre_type\"], [\"AMMC-B1, right\", \"AMMC-B1, left\"])\n",
    "\n",
    "mask = ammcb1r_pre_mask * ammcb1_pre_mask\n",
    "for ammcb1_id in np.unique(mech_sub_df[mask][\"pre_id\"]):\n",
    "    sub_celltype = cell_type_dict[ammcb1_id].replace(\",\", \"-u,\")\n",
    "    add_subtypes(ammcb1_id, sub_celltype)"
   ]
  },
  {
   "cell_type": "markdown",
   "metadata": {},
   "source": [
    "### WV-WV"
   ]
  },
  {
   "cell_type": "markdown",
   "metadata": {},
   "source": [
    "WV-WV: First, we labeled all WV-WV neurons with more than 20 synapses onto AMMC-A1, AMMC-A2 and GFN combined as WV-WV-3. Out of the remaining neurons, we labeled those with more than 100 synapses onto WED-VLP as WV-WV-1. WV-WV-2 was made up of all remaining WV-WV neurons. \n"
   ]
  },
  {
   "cell_type": "markdown",
   "metadata": {},
   "source": [
    "#### WV-WV-3"
   ]
  },
  {
   "cell_type": "markdown",
   "metadata": {},
   "source": [
    "WV-WV: First, we labeled all WV-WV neurons with more than 20 synapses onto AMMC-A1, AMMC-A2 and GFN combined as WV-WV-3."
   ]
  },
  {
   "cell_type": "code",
   "execution_count": 30,
   "metadata": {},
   "outputs": [],
   "source": [
    "# Conectivity of the WV-WV\n",
    "wvwv_pre_mask = np.isin(mech_sub_df[\"pre_type\"], [\"WV-WV\"])\n",
    "escape_post_mask = np.isin(mech_sub_df[\"post_type\"], [\"GFN, left\", \"GFN, right\",\"AMMC-A1, right\", \"AMMC-A1, left\",\"AMMC-A2, right\", \"AMMC-A2, left\"])\n",
    "\n",
    "mask = wvwv_pre_mask * escape_post_mask\n",
    "\n",
    "# Aggregate synapses\n",
    "wvwv_esc_dfg = mech_sub_df[mask].groupby(\"pre_id\").aggregate({\"nsyn\": \"sum\"})"
   ]
  },
  {
   "cell_type": "code",
   "execution_count": 31,
   "metadata": {},
   "outputs": [],
   "source": [
    "for wvwv_id in wvwv_esc_dfg.index:\n",
    "    if wvwv_esc_dfg.loc[wvwv_id][\"nsyn\"] > 20:   \n",
    "        sub_celltype = f\"{cell_type_dict[wvwv_id]}-3\"\n",
    "        add_subtypes(wvwv_id, sub_celltype)"
   ]
  },
  {
   "cell_type": "markdown",
   "metadata": {},
   "source": [
    "#### WV-WV-1"
   ]
  },
  {
   "cell_type": "markdown",
   "metadata": {},
   "source": [
    "Out of the remaining neurons, we labeled those with more than 100 synapses onto WED-VLP as WV-WV-1."
   ]
  },
  {
   "cell_type": "code",
   "execution_count": 32,
   "metadata": {},
   "outputs": [],
   "source": [
    "# Conectivity of the WV-WV\n",
    "wvwvr_pre_mask = np.isin(mech_sub_df[\"pre_subtype\"], [\"\"])\n",
    "wvwv_pre_mask = np.isin(mech_sub_df[\"pre_type\"], [\"WV-WV\"])\n",
    "wedvlp_post_mask = np.isin(mech_sub_df[\"post_type\"], [\"WED-VLP, left\", \"WED-VLP, right\"])\n",
    "\n",
    "mask = wvwvr_pre_mask * wvwv_pre_mask * wedvlp_post_mask\n",
    "\n",
    "# Aggregate synapses\n",
    "wvwv_wedvlp_dfg = mech_sub_df[mask].groupby(\"pre_id\").aggregate({\"nsyn\": \"sum\"})"
   ]
  },
  {
   "cell_type": "code",
   "execution_count": 33,
   "metadata": {},
   "outputs": [],
   "source": [
    "for wvwv_id in wvwv_wedvlp_dfg.index:\n",
    "    if wvwv_wedvlp_dfg.loc[wvwv_id][\"nsyn\"] > 100:   \n",
    "        sub_celltype = f\"{cell_type_dict[wvwv_id]}-1\"\n",
    "        add_subtypes(wvwv_id, sub_celltype)"
   ]
  },
  {
   "cell_type": "markdown",
   "metadata": {},
   "source": [
    "#### WV-WV-2"
   ]
  },
  {
   "cell_type": "markdown",
   "metadata": {},
   "source": [
    "WV-WV-2 was made up of all remaining WV-WV neurons. "
   ]
  },
  {
   "cell_type": "code",
   "execution_count": 34,
   "metadata": {},
   "outputs": [],
   "source": [
    "wvwvr_pre_mask = np.isin(mech_sub_df[\"pre_subtype\"], [\"\"])\n",
    "wvwv_pre_mask = np.isin(mech_sub_df[\"pre_type\"], [\"WV-WV\"])\n",
    "\n",
    "mask = wvwvr_pre_mask * wvwv_pre_mask\n",
    "for wvwv_id in np.unique(mech_sub_df[mask][\"pre_id\"]):\n",
    "    sub_celltype =  f\"{cell_type_dict[wvwv_id]}-2\"\n",
    "    add_subtypes(wvwv_id, sub_celltype)"
   ]
  },
  {
   "cell_type": "markdown",
   "metadata": {},
   "source": [
    "## Plots"
   ]
  },
  {
   "cell_type": "code",
   "execution_count": 35,
   "metadata": {},
   "outputs": [],
   "source": [
    "from matplotlib import pyplot as plt"
   ]
  },
  {
   "cell_type": "markdown",
   "metadata": {},
   "source": [
    "## Wed-VLP plot"
   ]
  },
  {
   "cell_type": "code",
   "execution_count": 36,
   "metadata": {},
   "outputs": [],
   "source": [
    "post_m = np.isin(mech_sub_df[\"post_type\"], [\"WED-VLP, left\", \"WED-VLP, right\"])\n",
    "pre_m = np.isin(mech_sub_df[\"pre_type\"], [\"AMMC-A2, left\", \"AMMC-A2, right\"])\n",
    "comb_m = np.logical_and(pre_m, post_m)\n",
    "\n",
    "ammca2_wedvlp_df = mech_sub_df[comb_m].copy()\n",
    "ammca2_wedvlp_df[\"pre_hemisphere\"] = [t.split(\", \")[1] for t in np.array(ammca2_wedvlp_df[\"pre_type\"])]\n",
    "ammca2_wedvlp_df[\"post_hemisphere\"] = [t.split(\", \")[1] for t in np.array(ammca2_wedvlp_df[\"post_type\"])]\n",
    "ammca2_wedvlp_df[\"post_subtype_blank\"] = [t.split(\", \")[0] for t in np.array(ammca2_wedvlp_df[\"post_subtype\"])]\n",
    "\n",
    "ammca2_wedvlp_df = ammca2_wedvlp_df[ammca2_wedvlp_df[\"pre_hemisphere\"] == ammca2_wedvlp_df[\"post_hemisphere\"]]"
   ]
  },
  {
   "cell_type": "code",
   "execution_count": 37,
   "metadata": {},
   "outputs": [
    {
     "name": "stderr",
     "output_type": "stream",
     "text": [
      "findfont: Font family ['sans-serif'] not found. Falling back to DejaVu Sans.\n",
      "findfont: Font family ['sans-serif'] not found. Falling back to DejaVu Sans.\n",
      "findfont: Font family ['sans-serif'] not found. Falling back to DejaVu Sans.\n"
     ]
    },
    {
     "data": {
      "image/png": "[encoded data removed]",
      "text/plain": [
       "<Figure size 360x288 with 1 Axes>"
      ]
     },
     "metadata": {},
     "output_type": "display_data"
    }
   ],
   "source": [
    "plotting.swarmplot(ammca2_wedvlp_df, \n",
    "                   x_key=\"pre_hemisphere\",\n",
    "                   y_key=\"nsyn\", \n",
    "                   hue_key=\"post_subtype_blank\", \n",
    "                   figsize=(5, 4),\n",
    "                   ylabel=\"# synapses from\\nipsi. AMMC-A2\",\n",
    "                   color_list=[cell_type_color_dict[\"WED-VLP-1\"], cell_type_color_dict[\"WED-VLP-2\"]],\n",
    "                   path=f\"{figure_dir}/summarized_ammca2_connectivity_wedvlp.png\")"
   ]
  },
  {
   "cell_type": "markdown",
   "metadata": {},
   "source": [
    "### Matrix plot"
   ]
  },
  {
   "cell_type": "code",
   "execution_count": 38,
   "metadata": {},
   "outputs": [],
   "source": [
    "# Predefined order\n",
    "\n",
    "cell_type_order = [\n",
    "    \"GFN\",\n",
    "    \"AMMC-A1\",\n",
    "    \"AMMC-A2\",\n",
    "    \"AMMC-B1\",\n",
    "    \"AMMC-B2\",\n",
    "    \"WED-VLP\",\n",
    "    \"WV-WV\"\n",
    "]"
   ]
  },
  {
   "cell_type": "code",
   "execution_count": 39,
   "metadata": {},
   "outputs": [],
   "source": [
    "combined_cell_type_dict = cell_type_dict.copy()\n",
    "combined_cell_type_dict.update(sub_cell_type_dict)\n",
    "combined_cell_type_dict_vec = np.vectorize(combined_cell_type_dict.get)"
   ]
  },
  {
   "cell_type": "code",
   "execution_count": 40,
   "metadata": {},
   "outputs": [],
   "source": [
    "# Sorting by major cell type, then hemisphere, then subtype\n",
    "\n",
    "combined_cell_type_dict = cell_type_dict.copy()\n",
    "combined_cell_type_dict.update(sub_cell_type_dict)\n",
    "combined_cell_type_dict_vec = np.vectorize(combined_cell_type_dict.get)\n",
    "\n",
    "neuron_ids = np.array(list(combined_cell_type_dict.keys()))\n",
    "neuron_cell_types = np.array(list(combined_cell_type_dict.values()))\n",
    "\n",
    "ordered_neuron_ids = []\n",
    "for cell_type in cell_type_order:\n",
    "    sel_neuron_ids = neuron_ids[[ct.startswith(cell_type) for ct in neuron_cell_types]]\n",
    "    sel_sub_celltypes = combined_cell_type_dict_vec(sel_neuron_ids)\n",
    "    sub_sorting = np.argsort([\"\".join(ct.split(\", \")[::-1]) for ct in sel_sub_celltypes])\n",
    "    \n",
    "    ordered_neuron_ids.extend(sel_neuron_ids[sub_sorting])"
   ]
  },
  {
   "cell_type": "code",
   "execution_count": 41,
   "metadata": {},
   "outputs": [],
   "source": [
    "# Generate ordered matrix \n",
    "\n",
    "mech_df_2d = mech_df.pivot_table(index=\"pre_id\", columns=\"post_id\", \n",
    "                                 values=\"nsyn\", fill_value=0, dropna=False)\n",
    "mech_df_2d = mech_df_2d.loc[ordered_neuron_ids].T.loc[ordered_neuron_ids].T"
   ]
  },
  {
   "cell_type": "markdown",
   "metadata": {},
   "source": [
    "### Sorting by cell type"
   ]
  },
  {
   "cell_type": "code",
   "execution_count": 42,
   "metadata": {
    "scrolled": true
   },
   "outputs": [],
   "source": [
    "def plot_matrix(data, cell_types_x=None, cell_types_y=None,\n",
    "                combined_cell_types_x=None, combined_cell_types_y=None,\n",
    "                is_symmetric=True, color_dict={},\n",
    "                figsize=(16, 14), cb_label=\"# synapses\", show_legend=True,\n",
    "                cmap=\"Greys\", min_n_syn=0, max_syn=20, path=None):\n",
    "    \n",
    "    def get_name_bounds(names):\n",
    "        starts = [0]\n",
    "        u_names = [names[0]]\n",
    "        temp_name = names[0]\n",
    "        for i_name in range(1, len(names)):\n",
    "            if temp_name == names[i_name]:\n",
    "                continue\n",
    "            else:\n",
    "                starts.append(i_name)\n",
    "                u_names.append(names[i_name])\n",
    "                temp_name = names[i_name]\n",
    "\n",
    "        starts.append(len(names))\n",
    "\n",
    "        starts = np.array(starts)\n",
    "\n",
    "        return u_names, starts\n",
    "    \n",
    "    fig = plt.figure(figsize=figsize, facecolor=\"white\")\n",
    "    plt.tick_params(length=0, width=0, labelsize=0)\n",
    "    ax = plt.gca()\n",
    "\n",
    "    plt.axes().spines['bottom'].set_linewidth(0)\n",
    "    plt.axes().spines['left'].set_linewidth(0)\n",
    "    plt.axes().spines['right'].set_linewidth(0)\n",
    "    plt.axes().spines['top'].set_linewidth(0)\n",
    "\n",
    "    # Core plot\n",
    "    cmap_d = plt.cm.get_cmap(cmap, max_syn + 1 - min_n_syn) \n",
    "    im = plt.imshow(data, cmap=cmap_d, vmax=max_syn+.5, aspect=\"auto\", vmin=min_n_syn-.5)\n",
    "\n",
    "    # Divider lines\n",
    "    if cell_types_x is not None:\n",
    "        coarse_lines_x = get_name_bounds([ct.split(',')[0] for ct in cell_types_x])\n",
    "        fine_lines_x = get_name_bounds(cell_types_x)\n",
    "\n",
    "        if is_symmetric:\n",
    "            coarse_lines_y = coarse_lines_x\n",
    "            fine_lines_y = fine_lines_x\n",
    "        else:\n",
    "            coarse_lines_y = get_name_bounds([ct.split(',')[0] for ct in cell_types_y])\n",
    "            fine_lines_y = get_name_bounds(cell_types_y)\n",
    "\n",
    "        plt.hlines(y=fine_lines_y[1][1:-1]-.5, xmin=-3, xmax=data.shape[1] - .5, color='.5', lw=1)\n",
    "        plt.vlines(x=fine_lines_x[1][1:-1]-.5, ymin=-0.5, ymax=data.shape[0] + 2, color='.5', lw=1)\n",
    "\n",
    "        plt.hlines(y=coarse_lines_y[1][1:-1]-.5, xmin=-3, xmax=data.shape[1] - .5, color='k', lw=2)\n",
    "        plt.vlines(x=coarse_lines_x[1][1:-1]-.5, ymin=-0.5, ymax=data.shape[0] + 2, color='k', lw=2)\n",
    "\n",
    "    # Cell type color blocks\n",
    "    if combined_cell_types_x is not None:\n",
    "        ct_blocks_x = get_name_bounds([ct.split(',')[0] for ct in combined_cell_types_x])\n",
    "        \n",
    "        if is_symmetric:\n",
    "            ct_blocks_y = ct_blocks_x\n",
    "        else:\n",
    "            ct_blocks_y = get_name_bounds([ct.split(',')[0] for ct in combined_cell_types_y])\n",
    "        \n",
    "        for i_start in range(len(ct_blocks_x[0])):\n",
    "            name_sub = ct_blocks_x[0][i_start]\n",
    "            start_sub = ct_blocks_x[1][i_start]\n",
    "            end_sub = ct_blocks_x[1][i_start + 1]\n",
    "\n",
    "            rect = mpl_patches.Rectangle((start_sub-.5, data.shape[0]), \n",
    "                                         end_sub - start_sub, 2, \n",
    "                                         linewidth=0, \n",
    "                                         facecolor=color_dict[name_sub], \n",
    "                                         edgecolor=None)\n",
    "            ax.add_patch(rect)\n",
    "\n",
    "        for i_start in range(len(ct_blocks_y[0])):\n",
    "            name_sub = ct_blocks_y[0][i_start]\n",
    "            start_sub = ct_blocks_y[1][i_start]\n",
    "            end_sub = ct_blocks_y[1][i_start + 1]\n",
    "\n",
    "            rect = mpl_patches.Rectangle((-3, start_sub-.5), 2, \n",
    "                                         end_sub - start_sub, \n",
    "                                         linewidth=0, \n",
    "                                         facecolor=color_dict[name_sub],\n",
    "                                         edgecolor=None)\n",
    "            ax.add_patch(rect)\n",
    "\n",
    "    fig.tight_layout()\n",
    "\n",
    "    # Colorbar\n",
    "    if show_legend:\n",
    "        cbar = plt.colorbar(im, shrink=.35, orientation=\"vertical\")\n",
    "        cbar.outline.set_visible(False)\n",
    "        cbar.ax.tick_params(labelsize=22, length=0) \n",
    "        cbar.ax.set_ylabel(cb_label, fontsize=24)\n",
    "\n",
    "        yticks = np.array(cbar.ax.get_yticks(), dtype=np.int).astype(np.str)\n",
    "\n",
    "        if int(yticks[-1]) < np.max(np.array(data)):\n",
    "            yticks[-1] = f\"{yticks[-1]}-{np.max(np.array(data))}\"\n",
    "        if 0 < int(yticks[0]):\n",
    "            yticks[0] = f\"0-{yticks[0]}\"\n",
    "        cbar.ax.set_yticklabels(yticks, fontsize=22)\n",
    "    \n",
    "    if path is not None:\n",
    "        plt.savefig(path, dpi=300)\n",
    "        plt.savefig(f\"{path[:-4]}.pdf\")\n",
    "    plt.show()"
   ]
  },
  {
   "cell_type": "code",
   "execution_count": 43,
   "metadata": {},
   "outputs": [
    {
     "name": "stderr",
     "output_type": "stream",
     "text": [
      "findfont: Font family ['sans-serif'] not found. Falling back to DejaVu Sans.\n",
      "findfont: Font family ['sans-serif'] not found. Falling back to DejaVu Sans.\n"
     ]
    },
    {
     "data": {
      "image/png": "[encoded data removed]",
      "text/plain": [
       "<Figure size 1152x1008 with 2 Axes>"
      ]
     },
     "metadata": {},
     "output_type": "display_data"
    }
   ],
   "source": [
    "plotting.plot_matrix(mech_df_2d, \n",
    "                     cell_types_x=cell_type_dict_vec(ordered_neuron_ids),\n",
    "                     combined_cell_types_x=combined_cell_type_dict_vec(ordered_neuron_ids),\n",
    "                     is_symmetric=True, color_dict=cell_type_color_dict, \n",
    "                     min_n_syn=0, max_syn=20,\n",
    "                     path=f\"{figure_dir}/connectivity_matrix.png\")"
   ]
  },
  {
   "cell_type": "code",
   "execution_count": 44,
   "metadata": {},
   "outputs": [],
   "source": [
    "mech_sub_df.to_csv(f\"{figure_source_dir}/connectivity.csv\")"
   ]
  }
 ],
 "metadata": {
  "kernelspec": {
   "display_name": "Python 3",
   "language": "python",
   "name": "python3"
  },
  "language_info": {
   "codemirror_mode": {
    "name": "ipython",
    "version": 3
   },
   "file_extension": ".py",
   "mimetype": "text/x-python",
   "name": "python",
   "nbconvert_exporter": "python",
   "pygments_lexer": "ipython3",
   "version": "3.8.5"
  }
 },
 "nbformat": 4,
 "nbformat_minor": 4
}
