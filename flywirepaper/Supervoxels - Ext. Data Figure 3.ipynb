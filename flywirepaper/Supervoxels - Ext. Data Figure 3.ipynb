{
 "cells": [
  {
   "cell_type": "markdown",
   "metadata": {},
   "source": [
    "## Supervoxels - Ext. Data FIgure 3\n",
    "\n",
    "This notebook creates the plots presented in Ext. Data Figure 3 of the FlyWire paper. "
   ]
  },
  {
   "cell_type": "code",
   "execution_count": 11,
   "metadata": {},
   "outputs": [],
   "source": [
    "import os\n",
    "import dill\n",
    "import warnings\n",
    "import pandas as pd\n",
    "import numpy as np\n",
    "import zstandard as zstd\n",
    "\n",
    "warnings.filterwarnings(\"ignore\")"
   ]
  },
  {
   "cell_type": "code",
   "execution_count": 12,
   "metadata": {},
   "outputs": [],
   "source": [
    "from flywirepaper import plotting"
   ]
  },
  {
   "cell_type": "markdown",
   "metadata": {},
   "source": [
    "## Define relevant paths and create directories"
   ]
  },
  {
   "cell_type": "code",
   "execution_count": 13,
   "metadata": {},
   "outputs": [],
   "source": [
    "data_dir = f\"{os.path.realpath('')}/../data\"\n",
    "figure_dir = f\"{os.path.realpath('')}/../figures/ext_figure_3/\"\n",
    "figure_source_dir = f\"{os.path.realpath('')}/../figures/ext_figure_source_3/\"\n",
    "\n",
    "if not os.path.exists(figure_dir):\n",
    "    os.makedirs(figure_dir)\n",
    "    \n",
    "if not os.path.exists(figure_source_dir):\n",
    "    os.makedirs(figure_source_dir)"
   ]
  },
  {
   "cell_type": "markdown",
   "metadata": {},
   "source": [
    "## Loading supervoxel sizes"
   ]
  },
  {
   "cell_type": "code",
   "execution_count": null,
   "metadata": {},
   "outputs": [],
   "source": [
    "with open(f\"{data_dir}/sv_vx_counts.dl\", \"rb\") as f:\n",
    "    sv_vx_counts_b = dill.load(f)\n",
    "    \n",
    "sv_vx_counts = np.frombuffer(zstd.ZstdDecompressor().decompressobj().decompress(sv_vx_counts_b), dtype=np.int32)    "
   ]
  },
  {
   "cell_type": "code",
   "execution_count": null,
   "metadata": {},
   "outputs": [],
   "source": [
    "with open(f\"{data_dir}/chunk_sv_counts.dl\", \"rb\") as f:\n",
    "    chunk_sv_counts = dill.load(f)"
   ]
  },
  {
   "cell_type": "markdown",
   "metadata": {},
   "source": [
    "## e - Supervoxels per chunk"
   ]
  },
  {
   "cell_type": "code",
   "execution_count": null,
   "metadata": {},
   "outputs": [],
   "source": [
    "plotting.hist_plot(chunk_sv_counts, normalize=False,\n",
    "                   xlabel=\"Supervoxels per chunk\",\n",
    "                   path=f\"{figure_dir}/full_dataset_svs_per_chunk.png\")"
   ]
  },
  {
   "cell_type": "code",
   "execution_count": null,
   "metadata": {},
   "outputs": [],
   "source": [
    "pd.DataFrame(chunk_sv_counts, columns=[\"sv/chunk\"]).to_csv(f\"{figure_source_dir}/e_source.csv\")"
   ]
  },
  {
   "cell_type": "markdown",
   "metadata": {},
   "source": [
    "## f - Supervoxel sizes"
   ]
  },
  {
   "cell_type": "code",
   "execution_count": null,
   "metadata": {},
   "outputs": [],
   "source": [
    "import importlib\n",
    "importlib.reload(plotting)"
   ]
  },
  {
   "cell_type": "code",
   "execution_count": null,
   "metadata": {},
   "outputs": [],
   "source": [
    "plotting.hist_plot(sv_vx_counts, \n",
    "                   logbins=False,\n",
    "                   normalize=False,\n",
    "                   data_range=[1, 100000],\n",
    "                   nbins=200,\n",
    "                   ylabel=\"Supervoxel count\",\n",
    "                   xlabel=\"Supervoxel size (vx)\",\n",
    "                   figsize=(12, 6),\n",
    "                   path=f\"{figure_dir}/full_dataset_sv_vx_counts.png\")"
   ]
  },
  {
   "cell_type": "markdown",
   "metadata": {},
   "source": [
    "This will create a large(!!!) file:"
   ]
  },
  {
   "cell_type": "code",
   "execution_count": null,
   "metadata": {},
   "outputs": [],
   "source": [
    "# pd.DataFrame(sv_vx_counts, columns=[\"vx/sv\"]).to_csv(f\"{figure_source_dir}/f_source.csv\")"
   ]
  }
 ],
 "metadata": {
  "kernelspec": {
   "display_name": "Python 3",
   "language": "python",
   "name": "python3"
  },
  "language_info": {
   "codemirror_mode": {
    "name": "ipython",
    "version": 3
   },
   "file_extension": ".py",
   "mimetype": "text/x-python",
   "name": "python",
   "nbconvert_exporter": "python",
   "pygments_lexer": "ipython3",
   "version": "3.8.5"
  }
 },
 "nbformat": 4,
 "nbformat_minor": 4
}
