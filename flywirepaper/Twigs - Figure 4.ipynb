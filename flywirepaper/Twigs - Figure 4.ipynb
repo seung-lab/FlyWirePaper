{
 "cells": [
  {
   "cell_type": "markdown",
   "metadata": {},
   "source": [
    "## Twigs - Figure 4\n",
    "\n",
    "This notebook creates the plots presented in Figure 4 of the FlyWire paper. "
   ]
  },
  {
   "cell_type": "code",
   "execution_count": 1,
   "metadata": {},
   "outputs": [],
   "source": [
    "import collections\n",
    "import os\n",
    "import dill\n",
    "import warnings\n",
    "import pandas as pd\n",
    "import numpy as np\n",
    "\n",
    "warnings.filterwarnings(\"ignore\")"
   ]
  },
  {
   "cell_type": "code",
   "execution_count": 2,
   "metadata": {},
   "outputs": [],
   "source": [
    "from flywirepaper import plotting"
   ]
  },
  {
   "cell_type": "markdown",
   "metadata": {},
   "source": [
    "## Define relevant paths and create directories"
   ]
  },
  {
   "cell_type": "code",
   "execution_count": 3,
   "metadata": {},
   "outputs": [],
   "source": [
    "data_dir = f\"{os.path.realpath('')}/../data\"\n",
    "figure_dir = f\"{os.path.realpath('')}/../figures/figure_4/\"\n",
    "figure_source_dir = f\"{os.path.realpath('')}/../figures/figure_source_4/\"\n",
    "\n",
    "if not os.path.exists(figure_dir):\n",
    "    os.makedirs(figure_dir)\n",
    "    \n",
    "if not os.path.exists(figure_source_dir):\n",
    "    os.makedirs(figure_source_dir)"
   ]
  },
  {
   "cell_type": "markdown",
   "metadata": {},
   "source": [
    "## Twig analysis"
   ]
  },
  {
   "cell_type": "code",
   "execution_count": 4,
   "metadata": {},
   "outputs": [],
   "source": [
    "twig_syn_df = pd.read_csv(f\"{data_dir}/twig_synapse_annotations.csv\")"
   ]
  },
  {
   "cell_type": "code",
   "execution_count": 5,
   "metadata": {},
   "outputs": [],
   "source": [
    "def is_pre(tag):\n",
    "    return \"(pre)\" in tag\n",
    "\n",
    "def is_post(tag):\n",
    "    return \"(post)\" in tag\n",
    "\n",
    "def clean_tag(tag):\n",
    "    return tag.replace(\"(post) \", \"\").replace(\"(pre) \", \"\").replace(\"BB\", \"backbone\").replace(\"orphan twig\", \"twig - oprhan\").replace(\"attached twig\", \"twig - attached\")\n",
    "\n",
    "pre_dict = collections.defaultdict(int)\n",
    "post_dict = collections.defaultdict(int)\n",
    "stat_dict = collections.Counter()\n",
    "\n",
    "for anno_tags in twig_syn_df[\"Tags\"].values:\n",
    "    if not isinstance(anno_tags, str):\n",
    "        stat_dict[\"empty tag\"] += 1\n",
    "        continue\n",
    "    if \"not syn\" in anno_tags:\n",
    "        stat_dict[\"not a synapse\"] += 1\n",
    "        continue\n",
    "    if \"syn-not sure\" in anno_tags:\n",
    "        stat_dict[\"ambiguous synapse\"] += 1\n",
    "        continue\n",
    "    \n",
    "    has_pre = is_pre(anno_tags)\n",
    "    has_post = is_post(anno_tags)\n",
    "\n",
    "    if has_pre and has_post:\n",
    "        for tag in anno_tags.split(\",\"):\n",
    "            if is_pre(tag):\n",
    "                pre_dict[clean_tag(tag)] += 1\n",
    "            if is_post(tag):\n",
    "                post_dict[clean_tag(tag)] += 1\n",
    "        stat_dict[\"annotated\"] += 1\n",
    "    else:\n",
    "        stat_dict[\"not pre & post annotated\"] += 1"
   ]
  },
  {
   "cell_type": "markdown",
   "metadata": {},
   "source": [
    "#### Statistics of the labeling effort"
   ]
  },
  {
   "cell_type": "code",
   "execution_count": 6,
   "metadata": {},
   "outputs": [
    {
     "data": {
      "text/html": [
       "<div>\n",
       "<style scoped>\n",
       "    .dataframe tbody tr th:only-of-type {\n",
       "        vertical-align: middle;\n",
       "    }\n",
       "\n",
       "    .dataframe tbody tr th {\n",
       "        vertical-align: top;\n",
       "    }\n",
       "\n",
       "    .dataframe thead th {\n",
       "        text-align: right;\n",
       "    }\n",
       "</style>\n",
       "<table border=\"1\" class=\"dataframe\">\n",
       "  <thead>\n",
       "    <tr style=\"text-align: right;\">\n",
       "      <th></th>\n",
       "      <th>Count</th>\n",
       "    </tr>\n",
       "  </thead>\n",
       "  <tbody>\n",
       "    <tr>\n",
       "      <th>ambiguous synapse</th>\n",
       "      <td>99</td>\n",
       "    </tr>\n",
       "    <tr>\n",
       "      <th>annotated</th>\n",
       "      <td>612</td>\n",
       "    </tr>\n",
       "    <tr>\n",
       "      <th>empty tag</th>\n",
       "      <td>1</td>\n",
       "    </tr>\n",
       "    <tr>\n",
       "      <th>not a synapse</th>\n",
       "      <td>285</td>\n",
       "    </tr>\n",
       "    <tr>\n",
       "      <th>not pre &amp; post annotated</th>\n",
       "      <td>3</td>\n",
       "    </tr>\n",
       "  </tbody>\n",
       "</table>\n",
       "</div>"
      ],
      "text/plain": [
       "                          Count\n",
       "ambiguous synapse            99\n",
       "annotated                   612\n",
       "empty tag                     1\n",
       "not a synapse               285\n",
       "not pre & post annotated      3"
      ]
     },
     "execution_count": 6,
     "metadata": {},
     "output_type": "execute_result"
    }
   ],
   "source": [
    "pd.DataFrame({\"Count\": stat_dict})"
   ]
  },
  {
   "cell_type": "markdown",
   "metadata": {},
   "source": [
    "#### Statistics of the locations identified as true synapses"
   ]
  },
  {
   "cell_type": "code",
   "execution_count": 7,
   "metadata": {},
   "outputs": [
    {
     "data": {
      "text/html": [
       "<div>\n",
       "<style scoped>\n",
       "    .dataframe tbody tr th:only-of-type {\n",
       "        vertical-align: middle;\n",
       "    }\n",
       "\n",
       "    .dataframe tbody tr th {\n",
       "        vertical-align: top;\n",
       "    }\n",
       "\n",
       "    .dataframe thead th {\n",
       "        text-align: right;\n",
       "    }\n",
       "</style>\n",
       "<table border=\"1\" class=\"dataframe\">\n",
       "  <thead>\n",
       "    <tr style=\"text-align: right;\">\n",
       "      <th></th>\n",
       "      <th>pre</th>\n",
       "      <th>post</th>\n",
       "    </tr>\n",
       "  </thead>\n",
       "  <tbody>\n",
       "    <tr>\n",
       "      <th>backbone</th>\n",
       "      <td>534</td>\n",
       "      <td>53</td>\n",
       "    </tr>\n",
       "    <tr>\n",
       "      <th>twig - attached</th>\n",
       "      <td>61</td>\n",
       "      <td>228</td>\n",
       "    </tr>\n",
       "    <tr>\n",
       "      <th>twig - oprhan</th>\n",
       "      <td>17</td>\n",
       "      <td>331</td>\n",
       "    </tr>\n",
       "  </tbody>\n",
       "</table>\n",
       "</div>"
      ],
      "text/plain": [
       "                 pre  post\n",
       "backbone         534    53\n",
       "twig - attached   61   228\n",
       "twig - oprhan     17   331"
      ]
     },
     "execution_count": 7,
     "metadata": {},
     "output_type": "execute_result"
    }
   ],
   "source": [
    "pd.DataFrame({\"pre\": pre_dict, \"post\": post_dict})"
   ]
  },
  {
   "cell_type": "code",
   "execution_count": 8,
   "metadata": {},
   "outputs": [
    {
     "name": "stderr",
     "output_type": "stream",
     "text": [
      "findfont: Font family ['sans-serif'] not found. Falling back to DejaVu Sans.\n"
     ]
    },
    {
     "data": {
      "image/png": "[encoded data removed]",
      "text/plain": [
       "<Figure size 324x396 with 1 Axes>"
      ]
     },
     "metadata": {},
     "output_type": "display_data"
    },
    {
     "data": {
      "image/png": "[encoded data removed]",
      "text/plain": [
       "<Figure size 324x396 with 1 Axes>"
      ]
     },
     "metadata": {},
     "output_type": "display_data"
    }
   ],
   "source": [
    "pre_sum = np.sum(list(pre_dict.values()))\n",
    "post_sum = np.sum(list(post_dict.values()))\n",
    "\n",
    "plotting.bar_plot(np.sort(list(pre_dict.keys())),\n",
    "                  [pre_dict[k] / pre_sum for k in np.sort(list(pre_dict.keys()))], \n",
    "                  ylabel=\"fraction presyn. sites\", color=[.8, .3, .3],\n",
    "                  figsize=(4.5, 5.5), xlabel_rotation=90, yrange=[0, 1],\n",
    "                  tick_label_size=24,\n",
    "                  path=f\"{figure_dir}/frac_pre_synaptic_syn.png\")\n",
    "\n",
    "\n",
    "plotting.bar_plot(np.sort(list(post_dict.keys())),\n",
    "                  [post_dict[k] / post_sum for k in np.sort(list(post_dict.keys()))], \n",
    "                  ylabel=\"fraction postsyn. sites\", color=\".4\",\n",
    "                  figsize=(4.5, 5.5), xlabel_rotation=90, yrange=[0, 1],\n",
    "                  tick_label_size=24,\n",
    "                  path=f\"{figure_dir}/frac_post_synaptic_syn.png\")"
   ]
  },
  {
   "cell_type": "code",
   "execution_count": 9,
   "metadata": {},
   "outputs": [],
   "source": [
    "pd.DataFrame({\"pre\": pre_dict, \"post\": post_dict}).to_csv(f\"{figure_source_dir}/bc_source.csv\")"
   ]
  }
 ],
 "metadata": {
  "kernelspec": {
   "display_name": "Python 3",
   "language": "python",
   "name": "python3"
  },
  "language_info": {
   "codemirror_mode": {
    "name": "ipython",
    "version": 3
   },
   "file_extension": ".py",
   "mimetype": "text/x-python",
   "name": "python",
   "nbconvert_exporter": "python",
   "pygments_lexer": "ipython3",
   "version": "3.8.5"
  }
 },
 "nbformat": 4,
 "nbformat_minor": 4
}
